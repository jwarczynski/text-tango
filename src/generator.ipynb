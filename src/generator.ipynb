{
 "cells": [
  {
   "cell_type": "code",
   "execution_count": 1,
   "id": "initial_id",
   "metadata": {
    "ExecuteTime": {
     "end_time": "2024-05-07T08:14:27.901564Z",
     "start_time": "2024-05-07T08:14:27.779962Z"
    }
   },
   "outputs": [],
   "source": [
    "import json\n",
    "\n",
    "from program import Program\n",
    "from lm_poller import LMPoller\n",
    "from text_preprocessing import extract_triplets, extract_relations\n",
    "from lm_response_evaluator import extract_code, get_response_similarity, evaluate_response"
   ]
  },
  {
   "cell_type": "code",
   "execution_count": 2,
   "id": "d89b2b31d792e2fe",
   "metadata": {
    "ExecuteTime": {
     "end_time": "2024-05-07T08:14:27.981334Z",
     "start_time": "2024-05-07T08:14:27.902651Z"
    }
   },
   "outputs": [],
   "source": [
    "#read json file from ../res/webnlg/train.json\n",
    "with open('../res/webnlg/train.json', 'r', encoding='utf-8') as f:\n",
    "    data = json.load(f)\n",
    "    \n",
    "# print(data['data'][0]['in'])\n",
    "# print(len(data['data']))"
   ]
  },
  {
   "cell_type": "code",
   "execution_count": 3,
   "id": "5d1820cd1320491e",
   "metadata": {
    "ExecuteTime": {
     "end_time": "2024-05-07T08:14:28.036832Z",
     "start_time": "2024-05-07T08:14:27.982302Z"
    }
   },
   "outputs": [],
   "source": [
    "data_dict = {}\n",
    "for i in range(len(data['data'])):\n",
    "    sample = data['data'][i]\n",
    "    in_data = data['data'][i]['in']\n",
    "    relations = extract_relations(in_data)\n",
    "    relations = tuple(relations)\n",
    "\n",
    "    if relations in data_dict:\n",
    "        data_dict[relations].append(sample)\n",
    "    else:\n",
    "        data_dict[relations] = [sample]"
   ]
  },
  {
   "cell_type": "code",
   "execution_count": 4,
   "id": "a8a91c0fe1b3a49c",
   "metadata": {
    "ExecuteTime": {
     "end_time": "2024-05-07T08:14:28.040312Z",
     "start_time": "2024-05-07T08:14:28.038100Z"
    }
   },
   "outputs": [],
   "source": [
    "keys = list(data_dict.keys())\n",
    "example_id = -1\n",
    "# print(f'{keys[example_id]}:\\n {data_dict[keys[example_id]]}')"
   ]
  },
  {
   "cell_type": "code",
   "execution_count": 5,
   "id": "4d48e820607d21fd",
   "metadata": {
    "ExecuteTime": {
     "end_time": "2024-05-07T08:14:28.048116Z",
     "start_time": "2024-05-07T08:14:28.044360Z"
    }
   },
   "outputs": [],
   "source": [
    "from logging import getLogger\n",
    "\n",
    "logger = getLogger('lm_poller')\n",
    "\n",
    "def log_error(message):\n",
    "    logger.error(message)\n",
    "\n",
    "MAX_LLM_FIX_QUYERY = 5"
   ]
  },
  {
   "cell_type": "code",
   "execution_count": 6,
   "id": "2c5a86e45e6973d3",
   "metadata": {
    "ExecuteTime": {
     "end_time": "2024-05-07T08:14:36.327107Z",
     "start_time": "2024-05-07T08:14:28.049062Z"
    }
   },
   "outputs": [
    {
     "name": "stdout",
     "output_type": "stream",
     "text": [
      "Errors: None\n",
      "similarity: 1.0\n",
      "output: Alpena County Regional Airport owner is Alpena County, Michigan.\n",
      "reference: Alpena County Regional Airport owner is Alpena County, Michigan.\n",
      "\n",
      "\n",
      "Errors: None\n",
      "similarity: 0.7532467532467533\n",
      "output: The 1st runway length metres of the Amsterdam Airport Schiphol is 3800 metres.\n",
      "reference: The length of the first runway at Amsterdam Airport Schiphol is 3800 metres.\n",
      "\n",
      "\n"
     ]
    }
   ],
   "source": [
    "program_gen = Program('../out/program')\n",
    "lm = LMPoller()\n",
    "\n",
    "for i, key in enumerate(keys[20:22]):\n",
    "    relations = set(key)\n",
    "    program_gen.add_rule_if_stmt(set(key))\n",
    "    #get sample for the key\n",
    "    sample = data_dict[key][0]\n",
    "    sample_X = sample['in']\n",
    "    reference_text = sample['out']\n",
    "    triplets = extract_triplets(sample_X)\n",
    "    \n",
    "    # print(f'key: {key}, triplets: {triplets}, relations: {relations}')\n",
    "    \n",
    "    response = lm.query_lm(triplets, reference_text, relations)\n",
    "    with open(f'../res/lama_responses/response_{i}.txt', 'w') as f:\n",
    "        f.write(response)\n",
    "    exctracted_code = extract_code(response, relations)\n",
    "    with open(f'../res/lama_responses/code_{i}.py', 'w') as f:\n",
    "        f.write(exctracted_code)\n",
    "    \n",
    "    output, errors = evaluate_response(triplets ,exctracted_code, reference_text, relations)\n",
    "    print(f'Errors: {errors}')\n",
    "    fix_query_count = 0\n",
    "    print(f'similarity: {get_response_similarity(output, reference_text)}')\n",
    "    print(f'output: {output}\\nreference: {reference_text}\\n\\n')\n",
    "    while (errors is not None or get_response_similarity(output, reference_text) < 0.5) and fix_query_count < MAX_LLM_FIX_QUYERY:\n",
    "        response = lm.fix_query(output, errors)\n",
    "        exctracted_code = extract_code(response, relations)\n",
    "        output, errors = evaluate_response(triplets, exctracted_code, reference_text)\n",
    "        fix_query_count += 1\n",
    "        \n",
    "    if fix_query_count < MAX_LLM_FIX_QUYERY:\n",
    "        program_gen.add_rule(exctracted_code)\n",
    "    else:\n",
    "        log_error(f'Failed to generate rule for {key} after {MAX_LLM_FIX_QUYERY} attempts. Skipping...')\n",
    "        \n",
    "\n",
    "program_gen.add_print_stmt()\n",
    "program_gen.write_program()"
   ]
  }
 ],
 "metadata": {
  "kernelspec": {
   "display_name": "Python 3 (ipykernel)",
   "language": "python",
   "name": "python3"
  },
  "language_info": {
   "codemirror_mode": {
    "name": "ipython",
    "version": 3
   },
   "file_extension": ".py",
   "mimetype": "text/x-python",
   "name": "python",
   "nbconvert_exporter": "python",
   "pygments_lexer": "ipython3",
   "version": "3.12.3"
  }
 },
 "nbformat": 4,
 "nbformat_minor": 5
}
