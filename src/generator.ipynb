{
 "cells": [
  {
   "cell_type": "code",
   "execution_count": 1,
   "id": "initial_id",
   "metadata": {
    "ExecuteTime": {
     "end_time": "2024-05-06T22:20:33.545291Z",
     "start_time": "2024-05-06T22:20:33.408760Z"
    },
    "collapsed": true,
    "jupyter": {
     "outputs_hidden": true
    }
   },
   "outputs": [],
   "source": [
    "import json\n",
    "\n",
    "from program import Program\n",
    "from lm_poller import LMPoller\n",
    "from text_preprocessing import extract_triplets, extract_relations\n",
    "from lm_response_evaluator import extract_code, get_response_similarity, evaluate_response"
   ]
  },
  {
   "cell_type": "code",
   "execution_count": 2,
   "id": "d89b2b31d792e2fe",
   "metadata": {
    "ExecuteTime": {
     "end_time": "2024-05-06T22:20:33.786480Z",
     "start_time": "2024-05-06T22:20:33.708426Z"
    }
   },
   "outputs": [
    {
     "name": "stdout",
     "output_type": "stream",
     "text": [
      "Aarhus Airport | city served | Aarhus, Denmark\n",
      "35426\n"
     ]
    }
   ],
   "source": [
    "#read json file from ../res/webnlg/train.json\n",
    "with open('../res/webnlg/train.json', 'r', encoding='utf-8') as f:\n",
    "    data = json.load(f)\n",
    "    \n",
    "print(data['data'][0]['in'])\n",
    "print(len(data['data']))"
   ]
  },
  {
   "cell_type": "code",
   "execution_count": 3,
   "id": "5d1820cd1320491e",
   "metadata": {
    "ExecuteTime": {
     "end_time": "2024-05-06T22:20:34.019606Z",
     "start_time": "2024-05-06T22:20:33.990099Z"
    }
   },
   "outputs": [],
   "source": [
    "# group all data with same input so in is a key and value is set of all possible outputs\n",
    "data_dict = {}\n",
    "for i in range(len(data['data'])):\n",
    "    in_data = data['data'][i]['in']\n",
    "    out_data = data['data'][i]['out']\n",
    "    if in_data in data_dict:\n",
    "        data_dict[in_data].add(out_data)\n",
    "    else:\n",
    "        data_dict[in_data] = {out_data}"
   ]
  },
  {
   "cell_type": "code",
   "execution_count": 4,
   "id": "a8a91c0fe1b3a49c",
   "metadata": {
    "ExecuteTime": {
     "end_time": "2024-05-06T22:20:34.260818Z",
     "start_time": "2024-05-06T22:20:34.256350Z"
    }
   },
   "outputs": [
    {
     "name": "stdout",
     "output_type": "stream",
     "text": [
      "Aarhus Airport | city served | Aarhus, Denmark:\n",
      " {'Aarhus Airport serves the city of Aarhus, Denmark.', 'The Aarhus is the airport of Aarhus, Denmark.'}\n"
     ]
    }
   ],
   "source": [
    "keys = list(data_dict.keys())\n",
    "example_id = 0\n",
    "print(f'{keys[example_id]}:\\n {data_dict[keys[example_id]]}')"
   ]
  },
  {
   "cell_type": "code",
   "execution_count": 5,
   "id": "3ca04dabab340965",
   "metadata": {
    "ExecuteTime": {
     "end_time": "2024-05-06T22:20:34.494413Z",
     "start_time": "2024-05-06T22:20:34.491903Z"
    }
   },
   "outputs": [],
   "source": [
    "program_gen = Program('../res/output')\n",
    "lm = LMPoller()"
   ]
  },
  {
   "cell_type": "code",
   "execution_count": 6,
   "id": "2c5a86e45e6973d3",
   "metadata": {
    "ExecuteTime": {
     "end_time": "2024-05-06T22:20:41.604252Z",
     "start_time": "2024-05-06T22:20:34.772735Z"
    }
   },
   "outputs": [
    {
     "name": "stdout",
     "output_type": "stream",
     "text": [
      "Output: The runway length of Abilene Regional Airport is 1121.0., Errors: None\n",
      "similarity: 1.0\n",
      "\n",
      "output: The runway length of Abilene Regional Airport is 1121.0.\n",
      "\n",
      "reference: The runway length of Abilene Regional Airport is 1121.0.\n",
      "Output: The runway length of Abilene Regional Airport is 2194.0., Errors: None\n",
      "similarity: 1.0\n",
      "\n",
      "output: The runway length of Abilene Regional Airport is 2194.0.\n",
      "\n",
      "reference: The runway length of Abilene Regional Airport is 2194.0.\n"
     ]
    }
   ],
   "source": [
    "from logging import getLogger\n",
    "\n",
    "logger = getLogger('lm_poller')\n",
    "\n",
    "def log_error(message):\n",
    "    logger.error(message)\n",
    "\n",
    "MAX_LLM_FIX_QUYERY = 5\n",
    "\n",
    "# TODO: data_dict keys should be relations not input text\n",
    "for i, key in enumerate(keys[20:22]):\n",
    "    # print(key.split('▸'))\n",
    "    relations = extract_relations(key)\n",
    "    program_gen.add_rule_if_stmt(relations)\n",
    "    triplets = extract_triplets(key)\n",
    "    reference_text = next(iter(data_dict[key]))\n",
    "    \n",
    "    response = lm.query_lm(triplets, reference_text, relations)\n",
    "    with open(f'../res/lama_responses/response_{i}.txt', 'w') as f:\n",
    "        f.write(response)\n",
    "    exctracted_code = extract_code(response)\n",
    "    with open(f'../res/lama_responses/code_{i}.py', 'w') as f:\n",
    "        f.write(exctracted_code)\n",
    "    # exctracted_code = extract_code(response)\n",
    "    \n",
    "    output, errors = evaluate_response(triplets ,exctracted_code, reference_text)\n",
    "    print(f'Output: {output}, Errors: {errors}')\n",
    "    fix_query_count = 0\n",
    "    print(f'similarity: {get_response_similarity(output, reference_text)}')\n",
    "    print(f'\\noutput: {output}\\n\\nreference: {reference_text}')\n",
    "    while (errors is not None or get_response_similarity(output, reference_text) < 0.5) and fix_query_count < MAX_LLM_FIX_QUYERY:\n",
    "        lm.fix_query(output, errors)\n",
    "        response = lm.fix_query(output, errors, reference_text)\n",
    "        exctracted_code = extract_code(response)\n",
    "        output, errors = evaluate_response(exctracted_code, reference_text)\n",
    "        fix_query_count += 1\n",
    "        \n",
    "    if fix_query_count < MAX_LLM_FIX_QUYERY:\n",
    "        program_gen.add_rule(exctracted_code)\n",
    "    else:\n",
    "        log_error(f'Failed to generate rule for {key} after {MAX_LLM_FIX_QUYERY} attempts. Skipping...')\n",
    "        \n",
    "\n",
    "program_gen.add_print_stmt()\n",
    "program_gen.write_program()"
   ]
  }
 ],
 "metadata": {
  "kernelspec": {
   "display_name": "Python 3 (ipykernel)",
   "language": "python",
   "name": "python3"
  },
  "language_info": {
   "codemirror_mode": {
    "name": "ipython",
    "version": 3
   },
   "file_extension": ".py",
   "mimetype": "text/x-python",
   "name": "python",
   "nbconvert_exporter": "python",
   "pygments_lexer": "ipython3",
   "version": "3.12.3"
  }
 },
 "nbformat": 4,
 "nbformat_minor": 5
}
